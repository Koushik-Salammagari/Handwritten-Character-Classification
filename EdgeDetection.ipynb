{
  "cells": [
    {
      "cell_type": "code",
      "execution_count": 203,
      "metadata": {
        "id": "nV3VAvLqycZi"
      },
      "outputs": [],
      "source": [
        "import tensorflow as tf\n",
        "import numpy as np\n",
        "import matplotlib.pyplot as plt\n",
        "import cv2"
      ]
    },
    {
      "cell_type": "markdown",
      "metadata": {
        "id": "VLwAY6oa0d3E"
      },
      "source": [
        "IMPORT MNIST DATA SET using Tensor Flow and load it into MNISTdata object\n"
      ]
    },
    {
      "cell_type": "code",
      "execution_count": 192,
      "metadata": {
        "id": "UnEDRW2QzCnc"
      },
      "outputs": [],
      "source": [
        "MNISTdata = tf.keras.datasets.mnist "
      ]
    },
    {
      "cell_type": "code",
      "source": [
        "(train_images, Train_labels), (Test_images, Test_labels) = MNISTdata.load_data()"
      ],
      "metadata": {
        "id": "wDXr1bwz83Dd"
      },
      "execution_count": 204,
      "outputs": []
    },
    {
      "cell_type": "code",
      "source": [
        "def apply_edge_detection(images, method):\n",
        "    num_images, img_rows, img_cols = images.shape\n",
        "    new_images = np.zeros((num_images, img_rows, img_cols))\n",
        "    for i in range(num_images):\n",
        "        # Apply edge detection to image using specified method\n",
        "        if method == \"sobel\":\n",
        "            dx = cv2.Sobel(images[i], cv2.CV_64F, 1, 0, ksize=3)\n",
        "            dy = cv2.Sobel(images[i], cv2.CV_64F, 0, 1, ksize=3)\n",
        "            new_images[i] = np.sqrt(dx**2 + dy**2)\n",
        "        elif method == \"canny\":\n",
        "            new_images[i] = cv2.Canny(images[i], 100, 200)\n",
        "        else:\n",
        "            raise ValueError(\"Invalid edge detection method\")\n",
        "    # Reshape images to (28, 28, 1)\n",
        "    new_images = np.expand_dims(new_images, -1)\n",
        "    return new_images"
      ],
      "metadata": {
        "id": "szJ1nHJJ8Wan"
      },
      "execution_count": 205,
      "outputs": []
    },
    {
      "cell_type": "code",
      "source": [
        "x_train_Large = apply_edge_detection(train_images, \"sobel\")\n",
        "x_test_Large = apply_edge_detection(Test_images, \"sobel\")\n",
        "trainX = x_train_Large.reshape((x_train_Large.shape[0], 28, 28, 1))\n",
        "testX = x_test_Large.reshape((x_test_Large.shape[0], 28, 28, 1))"
      ],
      "metadata": {
        "id": "rZwoxzBB8ggy"
      },
      "execution_count": 206,
      "outputs": []
    },
    {
      "cell_type": "code",
      "execution_count": 177,
      "metadata": {
        "id": "DUyydaEGz1NN"
      },
      "outputs": [],
      "source": [
        "#(train_images, Train_labels), (Test_images, Test_labels) = MNISTdata.load_data()\n",
        "#trainX =train_images.reshape((train_images.shape[0], 28, 28, 1))\n",
        "#testX = Test_images.reshape((Test_images.shape[0], 28, 28, 1))"
      ]
    },
    {
      "cell_type": "code",
      "source": [
        "train_images = trainX / 255.0\n",
        "Test_images = testX / 255.0"
      ],
      "metadata": {
        "id": "WcWXTqcqIaA_"
      },
      "execution_count": 196,
      "outputs": []
    },
    {
      "cell_type": "markdown",
      "metadata": {
        "id": "JsICqh-c0vzR"
      },
      "source": [
        "Divide the object ( data ) into 2 sections ... The train and the test section ..... and load data\n"
      ]
    },
    {
      "cell_type": "code",
      "execution_count": 207,
      "metadata": {
        "colab": {
          "base_uri": "https://localhost:8080/",
          "height": 172
        },
        "id": "s_HuhSm20HGh",
        "outputId": "33b7efb3-a3bc-4b4f-d74f-dee66f0851ed"
      },
      "outputs": [
        {
          "output_type": "display_data",
          "data": {
            "text/plain": [
              "<Figure size 640x480 with 2 Axes>"
            ],
            "image/png": "[encoded data removed]"
          },
          "metadata": {}
        }
      ],
      "source": [
        "for i in range(2):\n",
        "  # defining a pyplot \n",
        "  plt.subplot(330 +1 +i)\n",
        " \n",
        " # showing the first 9 images ( plotting the raw pixel data )\n",
        "  plt.imshow(testX[i])\n",
        "\n"
      ]
    },
    {
      "cell_type": "markdown",
      "metadata": {
        "id": "dP99cYEF2gV3"
      },
      "source": [
        "The above is the raw data ( thats how data is)\n"
      ]
    },
    {
      "cell_type": "code",
      "execution_count": 208,
      "metadata": {
        "colab": {
          "base_uri": "https://localhost:8080/"
        },
        "id": "jsUzjQtc17xR",
        "outputId": "7f8a60be-b39e-4c47-d908-fa151b8c7732"
      },
      "outputs": [
        {
          "output_type": "stream",
          "name": "stdout",
          "text": [
            "(60000, 28, 28, 1)\n",
            "[[[   0.        ]\n",
            "  [   0.        ]\n",
            "  [   0.        ]\n",
            "  [   0.        ]\n",
            "  [   0.        ]\n",
            "  [   0.        ]\n",
            "  [   0.        ]\n",
            "  [   0.        ]\n",
            "  [   0.        ]\n",
            "  [   0.        ]\n",
            "  [   0.        ]\n",
            "  [   0.        ]\n",
            "  [   0.        ]\n",
            "  [   0.        ]\n",
            "  [   0.        ]\n",
            "  [   0.        ]\n",
            "  [   0.        ]\n",
            "  [   0.        ]\n",
            "  [   0.        ]\n",
            "  [   0.        ]\n",
            "  [   0.        ]\n",
            "  [   0.        ]\n",
            "  [   0.        ]\n",
            "  [   0.        ]\n",
            "  [   0.        ]\n",
            "  [   0.        ]\n",
            "  [   0.        ]\n",
            "  [   0.        ]]\n",
            "\n",
            " [[   0.        ]\n",
            "  [   0.        ]\n",
            "  [   0.        ]\n",
            "  [   0.        ]\n",
            "  [   0.        ]\n",
            "  [   0.        ]\n",
            "  [   0.        ]\n",
            "  [   0.        ]\n",
            "  [   0.        ]\n",
            "  [   0.        ]\n",
            "  [   0.        ]\n",
            "  [   0.        ]\n",
            "  [   0.        ]\n",
            "  [   0.        ]\n",
            "  [   0.        ]\n",
            "  [   0.        ]\n",
            "  [   0.        ]\n",
            "  [   0.        ]\n",
            "  [   0.        ]\n",
            "  [   0.        ]\n",
            "  [   0.        ]\n",
            "  [   0.        ]\n",
            "  [   0.        ]\n",
            "  [   0.        ]\n",
            "  [   0.        ]\n",
            "  [   0.        ]\n",
            "  [   0.        ]\n",
            "  [   0.        ]]\n",
            "\n",
            " [[   0.        ]\n",
            "  [   0.        ]\n",
            "  [   0.        ]\n",
            "  [   0.        ]\n",
            "  [   0.        ]\n",
            "  [   0.        ]\n",
            "  [   0.        ]\n",
            "  [   0.        ]\n",
            "  [   0.        ]\n",
            "  [   0.        ]\n",
            "  [   0.        ]\n",
            "  [   0.        ]\n",
            "  [   0.        ]\n",
            "  [   0.        ]\n",
            "  [   0.        ]\n",
            "  [   0.        ]\n",
            "  [   0.        ]\n",
            "  [   0.        ]\n",
            "  [   0.        ]\n",
            "  [   0.        ]\n",
            "  [   0.        ]\n",
            "  [   0.        ]\n",
            "  [   0.        ]\n",
            "  [   0.        ]\n",
            "  [   0.        ]\n",
            "  [   0.        ]\n",
            "  [   0.        ]\n",
            "  [   0.        ]]\n",
            "\n",
            " [[   0.        ]\n",
            "  [   0.        ]\n",
            "  [   0.        ]\n",
            "  [   0.        ]\n",
            "  [   0.        ]\n",
            "  [   0.        ]\n",
            "  [   0.        ]\n",
            "  [   0.        ]\n",
            "  [   0.        ]\n",
            "  [   0.        ]\n",
            "  [   0.        ]\n",
            "  [   0.        ]\n",
            "  [   0.        ]\n",
            "  [   0.        ]\n",
            "  [   0.        ]\n",
            "  [   0.        ]\n",
            "  [   0.        ]\n",
            "  [   0.        ]\n",
            "  [   0.        ]\n",
            "  [   0.        ]\n",
            "  [   0.        ]\n",
            "  [   0.        ]\n",
            "  [   0.        ]\n",
            "  [   0.        ]\n",
            "  [   0.        ]\n",
            "  [   0.        ]\n",
            "  [   0.        ]\n",
            "  [   0.        ]]\n",
            "\n",
            " [[   0.        ]\n",
            "  [   0.        ]\n",
            "  [   0.        ]\n",
            "  [   0.        ]\n",
            "  [   0.        ]\n",
            "  [   0.        ]\n",
            "  [   0.        ]\n",
            "  [   0.        ]\n",
            "  [   0.        ]\n",
            "  [   0.        ]\n",
            "  [   0.        ]\n",
            "  [   4.24264069]\n",
            "  [  30.        ]\n",
            "  [  58.94064811]\n",
            "  [  72.        ]\n",
            "  [ 209.91426821]\n",
            "  [ 422.80018921]\n",
            "  [ 575.0912971 ]\n",
            "  [ 523.68311029]\n",
            "  [ 393.10303993]\n",
            "  [ 654.37756685]\n",
            "  [ 926.54735443]\n",
            "  [ 885.30220829]\n",
            "  [ 558.57855311]\n",
            "  [ 179.60512242]\n",
            "  [   0.        ]\n",
            "  [   0.        ]\n",
            "  [   0.        ]]\n",
            "\n",
            " [[   0.        ]\n",
            "  [   0.        ]\n",
            "  [   0.        ]\n",
            "  [   0.        ]\n",
            "  [   0.        ]\n",
            "  [   0.        ]\n",
            "  [   0.        ]\n",
            "  [  42.42640687]\n",
            "  [ 102.52804494]\n",
            "  [ 206.1843835 ]\n",
            "  [ 395.98989886]\n",
            "  [ 577.84773081]\n",
            "  [ 759.10078382]\n",
            "  [ 935.84720975]\n",
            "  [1012.        ]\n",
            "  [1034.79466562]\n",
            "  [1039.15350165]\n",
            "  [ 986.4866953 ]\n",
            "  [ 925.32480784]\n",
            "  [ 822.060825  ]\n",
            "  [1060.74690667]\n",
            "  [ 937.78462346]\n",
            "  [ 820.2267979 ]\n",
            "  [ 760.95334942]\n",
            "  [ 324.37632466]\n",
            "  [   0.        ]\n",
            "  [   0.        ]\n",
            "  [   0.        ]]\n",
            "\n",
            " [[   0.        ]\n",
            "  [   0.        ]\n",
            "  [   0.        ]\n",
            "  [   0.        ]\n",
            "  [   0.        ]\n",
            "  [   0.        ]\n",
            "  [  69.29646456]\n",
            "  [ 449.11023146]\n",
            "  [ 825.50590549]\n",
            "  [1007.20305798]\n",
            "  [1039.15350165]\n",
            "  [1020.83593197]\n",
            "  [1011.33575038]\n",
            "  [ 972.00102881]\n",
            "  [ 940.        ]\n",
            "  [ 838.9803335 ]\n",
            "  [ 615.0382102 ]\n",
            "  [ 321.73591655]\n",
            "  [ 441.05555206]\n",
            "  [  64.89992296]\n",
            "  [ 463.00107991]\n",
            "  [ 694.39470044]\n",
            "  [ 917.69493842]\n",
            "  [ 818.79179283]\n",
            "  [ 284.87541136]\n",
            "  [   0.        ]\n",
            "  [   0.        ]\n",
            "  [   0.        ]]\n",
            "\n",
            " [[   0.        ]\n",
            "  [   0.        ]\n",
            "  [   0.        ]\n",
            "  [   0.        ]\n",
            "  [   0.        ]\n",
            "  [   0.        ]\n",
            "  [ 117.38824473]\n",
            "  [ 759.11132253]\n",
            "  [ 914.77319593]\n",
            "  [ 792.40646136]\n",
            "  [ 644.8875871 ]\n",
            "  [ 446.51539727]\n",
            "  [ 282.88867068]\n",
            "  [  39.59797975]\n",
            "  [ 194.42736433]\n",
            "  [ 208.83007446]\n",
            "  [ 109.772492  ]\n",
            "  [ 647.340714  ]\n",
            "  [ 915.18085644]\n",
            "  [ 822.02189752]\n",
            "  [ 920.17607011]\n",
            "  [ 943.05885288]\n",
            "  [ 754.        ]\n",
            "  [ 422.91606732]\n",
            "  [  90.50966799]\n",
            "  [   0.        ]\n",
            "  [   0.        ]\n",
            "  [   0.        ]]\n",
            "\n",
            " [[   0.        ]\n",
            "  [   0.        ]\n",
            "  [   0.        ]\n",
            "  [   0.        ]\n",
            "  [   0.        ]\n",
            "  [   0.        ]\n",
            "  [  98.11218069]\n",
            "  [ 798.16790214]\n",
            "  [ 949.91789119]\n",
            "  [ 510.00392155]\n",
            "  [ 400.91146155]\n",
            "  [ 206.47518011]\n",
            "  [  67.88225099]\n",
            "  [ 488.00409834]\n",
            "  [ 858.27384907]\n",
            "  [ 966.78022322]\n",
            "  [ 815.96568555]\n",
            "  [ 856.04789586]\n",
            "  [ 883.88347648]\n",
            "  [ 339.17841912]\n",
            "  [ 303.11713907]\n",
            "  [ 236.93459013]\n",
            "  [ 145.23085072]\n",
            "  [  55.15432893]\n",
            "  [   0.        ]\n",
            "  [   0.        ]\n",
            "  [   0.        ]\n",
            "  [   0.        ]]\n",
            "\n",
            " [[   0.        ]\n",
            "  [   0.        ]\n",
            "  [   0.        ]\n",
            "  [   0.        ]\n",
            "  [   0.        ]\n",
            "  [   0.        ]\n",
            "  [  25.45584412]\n",
            "  [ 456.7997373 ]\n",
            "  [ 893.16627791]\n",
            "  [ 953.16420411]\n",
            "  [ 905.82559028]\n",
            "  [ 706.        ]\n",
            "  [ 306.99185657]\n",
            "  [ 949.65256805]\n",
            "  [ 935.47955616]\n",
            "  [ 816.85372007]\n",
            "  [ 987.71352122]\n",
            "  [ 801.45492699]\n",
            "  [ 599.56817794]\n",
            "  [   0.        ]\n",
            "  [   0.        ]\n",
            "  [   0.        ]\n",
            "  [   0.        ]\n",
            "  [   0.        ]\n",
            "  [   0.        ]\n",
            "  [   0.        ]\n",
            "  [   0.        ]\n",
            "  [   0.        ]]\n",
            "\n",
            " [[   0.        ]\n",
            "  [   0.        ]\n",
            "  [   0.        ]\n",
            "  [   0.        ]\n",
            "  [   0.        ]\n",
            "  [   0.        ]\n",
            "  [   0.        ]\n",
            "  [ 113.13708499]\n",
            "  [ 365.66651474]\n",
            "  [ 499.84197503]\n",
            "  [ 707.46872722]\n",
            "  [ 963.13758103]\n",
            "  [ 179.62739212]\n",
            "  [ 999.76097143]\n",
            "  [ 575.94617804]\n",
            "  [  60.03332408]\n",
            "  [ 285.15960443]\n",
            "  [ 353.6240942 ]\n",
            "  [ 217.78888861]\n",
            "  [   0.        ]\n",
            "  [   0.        ]\n",
            "  [   0.        ]\n",
            "  [   0.        ]\n",
            "  [   0.        ]\n",
            "  [   0.        ]\n",
            "  [   0.        ]\n",
            "  [   0.        ]\n",
            "  [   0.        ]]\n",
            "\n",
            " [[   0.        ]\n",
            "  [   0.        ]\n",
            "  [   0.        ]\n",
            "  [   0.        ]\n",
            "  [   0.        ]\n",
            "  [   0.        ]\n",
            "  [   0.        ]\n",
            "  [   0.        ]\n",
            "  [  19.79898987]\n",
            "  [  29.01723626]\n",
            "  [ 457.51721279]\n",
            "  [1010.54638686]\n",
            "  [ 299.39271868]\n",
            "  [ 936.22326397]\n",
            "  [ 783.92474129]\n",
            "  [ 101.86265263]\n",
            "  [   0.        ]\n",
            "  [   0.        ]\n",
            "  [   0.        ]\n",
            "  [   0.        ]\n",
            "  [   0.        ]\n",
            "  [   0.        ]\n",
            "  [   0.        ]\n",
            "  [   0.        ]\n",
            "  [   0.        ]\n",
            "  [   0.        ]\n",
            "  [   0.        ]\n",
            "  [   0.        ]]\n",
            "\n",
            " [[   0.        ]\n",
            "  [   0.        ]\n",
            "  [   0.        ]\n",
            "  [   0.        ]\n",
            "  [   0.        ]\n",
            "  [   0.        ]\n",
            "  [   0.        ]\n",
            "  [   0.        ]\n",
            "  [   0.        ]\n",
            "  [   0.        ]\n",
            "  [ 212.70166901]\n",
            "  [ 832.00961533]\n",
            "  [ 936.35036178]\n",
            "  [ 319.4526569 ]\n",
            "  [1017.53525737]\n",
            "  [ 700.62971675]\n",
            "  [ 409.15767132]\n",
            "  [ 154.15576538]\n",
            "  [   1.41421356]\n",
            "  [   0.        ]\n",
            "  [   0.        ]\n",
            "  [   0.        ]\n",
            "  [   0.        ]\n",
            "  [   0.        ]\n",
            "  [   0.        ]\n",
            "  [   0.        ]\n",
            "  [   0.        ]\n",
            "  [   0.        ]]\n",
            "\n",
            " [[   0.        ]\n",
            "  [   0.        ]\n",
            "  [   0.        ]\n",
            "  [   0.        ]\n",
            "  [   0.        ]\n",
            "  [   0.        ]\n",
            "  [   0.        ]\n",
            "  [   0.        ]\n",
            "  [   0.        ]\n",
            "  [   0.        ]\n",
            "  [  15.55634919]\n",
            "  [ 335.47578154]\n",
            "  [ 982.3410813 ]\n",
            "  [ 618.46261003]\n",
            "  [ 486.0966982 ]\n",
            "  [ 973.51014376]\n",
            "  [ 987.51607582]\n",
            "  [ 680.72902098]\n",
            "  [ 207.8509081 ]\n",
            "  [  35.35533906]\n",
            "  [   0.        ]\n",
            "  [   0.        ]\n",
            "  [   0.        ]\n",
            "  [   0.        ]\n",
            "  [   0.        ]\n",
            "  [   0.        ]\n",
            "  [   0.        ]\n",
            "  [   0.        ]]\n",
            "\n",
            " [[   0.        ]\n",
            "  [   0.        ]\n",
            "  [   0.        ]\n",
            "  [   0.        ]\n",
            "  [   0.        ]\n",
            "  [   0.        ]\n",
            "  [   0.        ]\n",
            "  [   0.        ]\n",
            "  [   0.        ]\n",
            "  [   0.        ]\n",
            "  [   0.        ]\n",
            "  [  49.49747468]\n",
            "  [ 509.04813132]\n",
            "  [ 998.51589872]\n",
            "  [ 729.5382101 ]\n",
            "  [ 118.22859214]\n",
            "  [ 672.47602188]\n",
            "  [1040.81218286]\n",
            "  [ 742.60756797]\n",
            "  [ 285.68514137]\n",
            "  [  38.18376618]\n",
            "  [   0.        ]\n",
            "  [   0.        ]\n",
            "  [   0.        ]\n",
            "  [   0.        ]\n",
            "  [   0.        ]\n",
            "  [   0.        ]\n",
            "  [   0.        ]]\n",
            "\n",
            " [[   0.        ]\n",
            "  [   0.        ]\n",
            "  [   0.        ]\n",
            "  [   0.        ]\n",
            "  [   0.        ]\n",
            "  [   0.        ]\n",
            "  [   0.        ]\n",
            "  [   0.        ]\n",
            "  [   0.        ]\n",
            "  [   0.        ]\n",
            "  [   0.        ]\n",
            "  [   0.        ]\n",
            "  [ 114.55129855]\n",
            "  [ 520.09999039]\n",
            "  [ 974.88666008]\n",
            "  [1018.01768158]\n",
            "  [ 485.25457236]\n",
            "  [ 432.00925916]\n",
            "  [1003.33045404]\n",
            "  [ 834.55856595]\n",
            "  [ 305.04098085]\n",
            "  [   0.        ]\n",
            "  [   0.        ]\n",
            "  [   0.        ]\n",
            "  [   0.        ]\n",
            "  [   0.        ]\n",
            "  [   0.        ]\n",
            "  [   0.        ]]\n",
            "\n",
            " [[   0.        ]\n",
            "  [   0.        ]\n",
            "  [   0.        ]\n",
            "  [   0.        ]\n",
            "  [   0.        ]\n",
            "  [   0.        ]\n",
            "  [   0.        ]\n",
            "  [   0.        ]\n",
            "  [   0.        ]\n",
            "  [   0.        ]\n",
            "  [   0.        ]\n",
            "  [   0.        ]\n",
            "  [   0.        ]\n",
            "  [  63.63961031]\n",
            "  [ 351.7101079 ]\n",
            "  [ 777.26186064]\n",
            "  [1051.36102267]\n",
            "  [ 495.84675052]\n",
            "  [ 553.63525899]\n",
            "  [1042.75884077]\n",
            "  [ 738.24115301]\n",
            "  [  90.50966799]\n",
            "  [   0.        ]\n",
            "  [   0.        ]\n",
            "  [   0.        ]\n",
            "  [   0.        ]\n",
            "  [   0.        ]\n",
            "  [   0.        ]]\n",
            "\n",
            " [[   0.        ]\n",
            "  [   0.        ]\n",
            "  [   0.        ]\n",
            "  [   0.        ]\n",
            "  [   0.        ]\n",
            "  [   0.        ]\n",
            "  [   0.        ]\n",
            "  [   0.        ]\n",
            "  [   0.        ]\n",
            "  [   0.        ]\n",
            "  [   0.        ]\n",
            "  [   0.        ]\n",
            "  [   0.        ]\n",
            "  [  65.05382387]\n",
            "  [ 252.49158402]\n",
            "  [ 430.57635792]\n",
            "  [ 906.35202874]\n",
            "  [ 741.72771284]\n",
            "  [ 112.9690223 ]\n",
            "  [ 882.99943375]\n",
            "  [ 892.32281154]\n",
            "  [ 130.01538371]\n",
            "  [   0.        ]\n",
            "  [   0.        ]\n",
            "  [   0.        ]\n",
            "  [   0.        ]\n",
            "  [   0.        ]\n",
            "  [   0.        ]]\n",
            "\n",
            " [[   0.        ]\n",
            "  [   0.        ]\n",
            "  [   0.        ]\n",
            "  [   0.        ]\n",
            "  [   0.        ]\n",
            "  [   0.        ]\n",
            "  [   0.        ]\n",
            "  [   0.        ]\n",
            "  [   0.        ]\n",
            "  [   0.        ]\n",
            "  [   0.        ]\n",
            "  [  55.15432893]\n",
            "  [ 270.14810753]\n",
            "  [ 630.57116965]\n",
            "  [ 933.33059523]\n",
            "  [1031.96317764]\n",
            "  [ 909.50206157]\n",
            "  [ 467.61522644]\n",
            "  [ 177.00282484]\n",
            "  [ 962.2276238 ]\n",
            "  [ 867.20816417]\n",
            "  [  93.38094024]\n",
            "  [   0.        ]\n",
            "  [   0.        ]\n",
            "  [   0.        ]\n",
            "  [   0.        ]\n",
            "  [   0.        ]\n",
            "  [   0.        ]]\n",
            "\n",
            " [[   0.        ]\n",
            "  [   0.        ]\n",
            "  [   0.        ]\n",
            "  [   0.        ]\n",
            "  [   0.        ]\n",
            "  [   0.        ]\n",
            "  [   0.        ]\n",
            "  [   0.        ]\n",
            "  [   0.        ]\n",
            "  [  33.9411255 ]\n",
            "  [ 198.09088823]\n",
            "  [ 547.13252508]\n",
            "  [ 918.53470267]\n",
            "  [1040.24996996]\n",
            "  [ 860.05813757]\n",
            "  [ 554.75580213]\n",
            "  [ 222.62524565]\n",
            "  [ 236.64741706]\n",
            "  [ 722.63545443]\n",
            "  [1018.09724486]\n",
            "  [ 608.7380389 ]\n",
            "  [   2.82842712]\n",
            "  [   0.        ]\n",
            "  [   0.        ]\n",
            "  [   0.        ]\n",
            "  [   0.        ]\n",
            "  [   0.        ]\n",
            "  [   0.        ]]\n",
            "\n",
            " [[   0.        ]\n",
            "  [   0.        ]\n",
            "  [   0.        ]\n",
            "  [   0.        ]\n",
            "  [   0.        ]\n",
            "  [   0.        ]\n",
            "  [   0.        ]\n",
            "  [  32.52691193]\n",
            "  [ 130.        ]\n",
            "  [ 438.25563316]\n",
            "  [ 852.78954027]\n",
            "  [1046.04875603]\n",
            "  [ 894.020134  ]\n",
            "  [ 514.99514561]\n",
            "  [ 110.01818032]\n",
            "  [ 297.43570734]\n",
            "  [ 715.89105316]\n",
            "  [1020.84866655]\n",
            "  [1046.9546313 ]\n",
            "  [ 736.09238551]\n",
            "  [ 257.38686835]\n",
            "  [   0.        ]\n",
            "  [   0.        ]\n",
            "  [   0.        ]\n",
            "  [   0.        ]\n",
            "  [   0.        ]\n",
            "  [   0.        ]\n",
            "  [   0.        ]]\n",
            "\n",
            " [[   0.        ]\n",
            "  [   0.        ]\n",
            "  [   0.        ]\n",
            "  [   0.        ]\n",
            "  [   0.        ]\n",
            "  [  25.45584412]\n",
            "  [ 268.49581002]\n",
            "  [ 629.4839156 ]\n",
            "  [ 888.16665103]\n",
            "  [1049.74282565]\n",
            "  [ 980.12448189]\n",
            "  [ 606.01155105]\n",
            "  [ 166.09033687]\n",
            "  [ 293.13819267]\n",
            "  [ 712.40437955]\n",
            "  [1007.55744253]\n",
            "  [1053.38027322]\n",
            "  [ 806.75770836]\n",
            "  [ 411.67219969]\n",
            "  [ 110.30865787]\n",
            "  [   0.        ]\n",
            "  [   0.        ]\n",
            "  [   0.        ]\n",
            "  [   0.        ]\n",
            "  [   0.        ]\n",
            "  [   0.        ]\n",
            "  [   0.        ]\n",
            "  [   0.        ]]\n",
            "\n",
            " [[   0.        ]\n",
            "  [   0.        ]\n",
            "  [   0.        ]\n",
            "  [  77.78174593]\n",
            "  [ 330.31500117]\n",
            "  [ 658.38742394]\n",
            "  [ 973.68269986]\n",
            "  [1062.89604383]\n",
            "  [ 928.92410885]\n",
            "  [ 693.75788284]\n",
            "  [ 313.44537004]\n",
            "  [ 126.50691681]\n",
            "  [ 602.39687914]\n",
            "  [ 981.77899753]\n",
            "  [1042.47781751]\n",
            "  [ 801.95012314]\n",
            "  [ 420.52348329]\n",
            "  [ 117.41379817]\n",
            "  [   2.82842712]\n",
            "  [   0.        ]\n",
            "  [   0.        ]\n",
            "  [   0.        ]\n",
            "  [   0.        ]\n",
            "  [   0.        ]\n",
            "  [   0.        ]\n",
            "  [   0.        ]\n",
            "  [   0.        ]\n",
            "  [   0.        ]]\n",
            "\n",
            " [[   0.        ]\n",
            "  [   0.        ]\n",
            "  [   0.        ]\n",
            "  [ 281.09073268]\n",
            "  [ 795.00566036]\n",
            "  [ 998.32760154]\n",
            "  [ 871.15670232]\n",
            "  [ 446.60944907]\n",
            "  [  61.6116872 ]\n",
            "  [ 366.89508037]\n",
            "  [ 612.51775484]\n",
            "  [ 926.00647946]\n",
            "  [1082.33266605]\n",
            "  [ 845.84277499]\n",
            "  [ 419.23740291]\n",
            "  [ 126.50691681]\n",
            "  [  12.72792206]\n",
            "  [   0.        ]\n",
            "  [   0.        ]\n",
            "  [   0.        ]\n",
            "  [   0.        ]\n",
            "  [   0.        ]\n",
            "  [   0.        ]\n",
            "  [   0.        ]\n",
            "  [   0.        ]\n",
            "  [   0.        ]\n",
            "  [   0.        ]\n",
            "  [   0.        ]]\n",
            "\n",
            " [[   0.        ]\n",
            "  [   0.        ]\n",
            "  [   0.        ]\n",
            "  [ 331.59312417]\n",
            "  [ 734.30783735]\n",
            "  [ 744.74827962]\n",
            "  [ 880.73264956]\n",
            "  [ 986.53433797]\n",
            "  [1039.15350165]\n",
            "  [1024.57015377]\n",
            "  [1032.9656335 ]\n",
            "  [ 954.63710383]\n",
            "  [ 584.52202696]\n",
            "  [ 204.24005484]\n",
            "  [  15.55634919]\n",
            "  [   0.        ]\n",
            "  [   0.        ]\n",
            "  [   0.        ]\n",
            "  [   0.        ]\n",
            "  [   0.        ]\n",
            "  [   0.        ]\n",
            "  [   0.        ]\n",
            "  [   0.        ]\n",
            "  [   0.        ]\n",
            "  [   0.        ]\n",
            "  [   0.        ]\n",
            "  [   0.        ]\n",
            "  [   0.        ]]\n",
            "\n",
            " [[   0.        ]\n",
            "  [   0.        ]\n",
            "  [   0.        ]\n",
            "  [ 192.33304448]\n",
            "  [ 582.78126257]\n",
            "  [ 902.61508961]\n",
            "  [1012.        ]\n",
            "  [ 971.86521699]\n",
            "  [ 820.52909759]\n",
            "  [ 619.1897932 ]\n",
            "  [ 431.72444916]\n",
            "  [ 210.52315787]\n",
            "  [  22.627417  ]\n",
            "  [   0.        ]\n",
            "  [   0.        ]\n",
            "  [   0.        ]\n",
            "  [   0.        ]\n",
            "  [   0.        ]\n",
            "  [   0.        ]\n",
            "  [   0.        ]\n",
            "  [   0.        ]\n",
            "  [   0.        ]\n",
            "  [   0.        ]\n",
            "  [   0.        ]\n",
            "  [   0.        ]\n",
            "  [   0.        ]\n",
            "  [   0.        ]\n",
            "  [   0.        ]]\n",
            "\n",
            " [[   0.        ]\n",
            "  [   0.        ]\n",
            "  [   0.        ]\n",
            "  [   0.        ]\n",
            "  [   0.        ]\n",
            "  [   0.        ]\n",
            "  [   0.        ]\n",
            "  [   0.        ]\n",
            "  [   0.        ]\n",
            "  [   0.        ]\n",
            "  [   0.        ]\n",
            "  [   0.        ]\n",
            "  [   0.        ]\n",
            "  [   0.        ]\n",
            "  [   0.        ]\n",
            "  [   0.        ]\n",
            "  [   0.        ]\n",
            "  [   0.        ]\n",
            "  [   0.        ]\n",
            "  [   0.        ]\n",
            "  [   0.        ]\n",
            "  [   0.        ]\n",
            "  [   0.        ]\n",
            "  [   0.        ]\n",
            "  [   0.        ]\n",
            "  [   0.        ]\n",
            "  [   0.        ]\n",
            "  [   0.        ]]\n",
            "\n",
            " [[   0.        ]\n",
            "  [   0.        ]\n",
            "  [   0.        ]\n",
            "  [   0.        ]\n",
            "  [   0.        ]\n",
            "  [   0.        ]\n",
            "  [   0.        ]\n",
            "  [   0.        ]\n",
            "  [   0.        ]\n",
            "  [   0.        ]\n",
            "  [   0.        ]\n",
            "  [   0.        ]\n",
            "  [   0.        ]\n",
            "  [   0.        ]\n",
            "  [   0.        ]\n",
            "  [   0.        ]\n",
            "  [   0.        ]\n",
            "  [   0.        ]\n",
            "  [   0.        ]\n",
            "  [   0.        ]\n",
            "  [   0.        ]\n",
            "  [   0.        ]\n",
            "  [   0.        ]\n",
            "  [   0.        ]\n",
            "  [   0.        ]\n",
            "  [   0.        ]\n",
            "  [   0.        ]\n",
            "  [   0.        ]]]\n"
          ]
        }
      ],
      "source": [
        "\n",
        "print(trainX.shape)\n",
        "print(trainX[0])"
      ]
    },
    {
      "cell_type": "markdown",
      "metadata": {
        "id": "OmztkHRt2vSW"
      },
      "source": [
        "** The above images in Matrix form (60000 28 28)\n",
        "\n",
        "1) So we have a collection of 60000images and each image is 28 * 28 pixel dimension\n",
        " \n",
        "2) Each number represents the pixel intensity \n",
        "\n",
        "3) the range is from 0 to 255 "
      ]
    },
    {
      "cell_type": "markdown",
      "metadata": {
        "id": "q3KY9RXV3tHC"
      },
      "source": [
        "\n",
        "\n",
        "## * Lets normalize the data now  ( we are rounding of it to the scale of 0 to 1) \n",
        "\n"
      ]
    },
    {
      "cell_type": "code",
      "execution_count": 199,
      "metadata": {
        "id": "mSfU9pcV2XlD"
      },
      "outputs": [],
      "source": [
        "#train_images = trainX / 255.0\n",
        "#Test_images = testX / 255.0"
      ]
    },
    {
      "cell_type": "code",
      "source": [],
      "metadata": {
        "id": "PBS7g3iY9znF"
      },
      "execution_count": 128,
      "outputs": []
    },
    {
      "cell_type": "markdown",
      "metadata": {
        "id": "KZo_X91pDWKa"
      },
      "source": [
        "#*** Fully Connected layer ( Dense)"
      ]
    },
    {
      "cell_type": "markdown",
      "metadata": {
        "id": "1StkYBEX4gF4"
      },
      "source": [
        "# ** Now lets build the Neural Network"
      ]
    },
    {
      "cell_type": "markdown",
      "metadata": {
        "id": "GIzpT80e6LZb"
      },
      "source": [
        "#* 1) We are creating a layer of networks in sequence and inside this function we need to define each and every layer \n",
        "\n",
        "# *2) One input, one output, one hidden layer "
      ]
    },
    {
      "cell_type": "code",
      "execution_count": 209,
      "metadata": {
        "id": "l6QoUS5B4ZDA"
      },
      "outputs": [],
      "source": [
        "model = tf.keras.models.Sequential([tf.keras.layers.Flatten(input_shape=(28, 28)), \n",
        "                                    tf.keras.layers.Dense(128, activation= 'relu'),\n",
        "                                    tf.keras.layers.Dense(128, activation= 'relu'),\n",
        "                                    tf.keras.layers.Dense(10, activation=tf.nn.softmax)])"
      ]
    },
    {
      "cell_type": "markdown",
      "metadata": {
        "id": "3vVDYZBS80kv"
      },
      "source": [
        "\n",
        "# * We are using Adam optimizer \n",
        "# * and the cost function is Crossentropy\n",
        "# * and Metrics to print accuracy at every step of the model\n",
        "\n"
      ]
    },
    {
      "cell_type": "code",
      "execution_count": 210,
      "metadata": {
        "id": "5bskqxDj6FwM"
      },
      "outputs": [],
      "source": [
        "model.compile(optimizer = tf.optimizers.Adam(), \n",
        "              loss = 'sparse_categorical_crossentropy', \n",
        "              metrics=['accuracy'])"
      ]
    },
    {
      "cell_type": "markdown",
      "metadata": {
        "id": "k-H5gaOb9mXX"
      },
      "source": [
        "#* Now lets Train the model"
      ]
    },
    {
      "cell_type": "markdown",
      "metadata": {
        "id": "nGskslqr92_X"
      },
      "source": [
        "#* here we are giving the training data set. \n",
        "#* 1) training images and training labels and the number of iterations we are putting it to 10\n"
      ]
    },
    {
      "cell_type": "code",
      "execution_count": 211,
      "metadata": {
        "colab": {
          "base_uri": "https://localhost:8080/"
        },
        "id": "oKwCp2gn8xBd",
        "outputId": "cd5b4736-9b6e-4442-a123-08af545c5002"
      },
      "outputs": [
        {
          "output_type": "stream",
          "name": "stdout",
          "text": [
            "Epoch 1/15\n",
            "1875/1875 [==============================] - 9s 4ms/step - loss: 6.7212 - accuracy: 0.7038 - val_loss: 0.9702 - val_accuracy: 0.7292\n",
            "Epoch 2/15\n",
            "1875/1875 [==============================] - 6s 3ms/step - loss: 0.9157 - accuracy: 0.7671 - val_loss: 0.8500 - val_accuracy: 0.7744\n",
            "Epoch 3/15\n",
            "1875/1875 [==============================] - 7s 4ms/step - loss: 0.8947 - accuracy: 0.7809 - val_loss: 0.8733 - val_accuracy: 0.7706\n",
            "Epoch 4/15\n",
            "1875/1875 [==============================] - 7s 4ms/step - loss: 0.8752 - accuracy: 0.7753 - val_loss: 0.8346 - val_accuracy: 0.7659\n",
            "Epoch 5/15\n",
            "1875/1875 [==============================] - 7s 4ms/step - loss: 0.8576 - accuracy: 0.7770 - val_loss: 0.8523 - val_accuracy: 0.8168\n",
            "Epoch 6/15\n",
            "1875/1875 [==============================] - 6s 3ms/step - loss: 0.7221 - accuracy: 0.8106 - val_loss: 0.7242 - val_accuracy: 0.8373\n",
            "Epoch 7/15\n",
            "1875/1875 [==============================] - 7s 4ms/step - loss: 0.6503 - accuracy: 0.8307 - val_loss: 0.5947 - val_accuracy: 0.8622\n",
            "Epoch 8/15\n",
            "1875/1875 [==============================] - 6s 3ms/step - loss: 0.5316 - accuracy: 0.8587 - val_loss: 0.5154 - val_accuracy: 0.8842\n",
            "Epoch 9/15\n",
            "1875/1875 [==============================] - 7s 4ms/step - loss: 0.4451 - accuracy: 0.8815 - val_loss: 0.4370 - val_accuracy: 0.8844\n",
            "Epoch 10/15\n",
            "1875/1875 [==============================] - 6s 3ms/step - loss: 0.3921 - accuracy: 0.8927 - val_loss: 0.3849 - val_accuracy: 0.9005\n",
            "Epoch 11/15\n",
            "1875/1875 [==============================] - 7s 4ms/step - loss: 0.3637 - accuracy: 0.8978 - val_loss: 0.3448 - val_accuracy: 0.9063\n",
            "Epoch 12/15\n",
            "1875/1875 [==============================] - 6s 3ms/step - loss: 0.3516 - accuracy: 0.9025 - val_loss: 0.3775 - val_accuracy: 0.8969\n",
            "Epoch 13/15\n",
            "1875/1875 [==============================] - 7s 4ms/step - loss: 0.3401 - accuracy: 0.9044 - val_loss: 0.3525 - val_accuracy: 0.9003\n",
            "Epoch 14/15\n",
            "1875/1875 [==============================] - 6s 3ms/step - loss: 0.3333 - accuracy: 0.9062 - val_loss: 0.3481 - val_accuracy: 0.9052\n",
            "Epoch 15/15\n",
            "1875/1875 [==============================] - 7s 4ms/step - loss: 0.3174 - accuracy: 0.9109 - val_loss: 0.3382 - val_accuracy: 0.9067\n"
          ]
        }
      ],
      "source": [
        " DenseModel = model.fit(trainX, Train_labels, epochs = 15, validation_data= (testX, Test_labels))"
      ]
    },
    {
      "cell_type": "markdown",
      "metadata": {
        "id": "NPMqu5xHABIz"
      },
      "source": [
        "# * Lets test the data set \n",
        "\n",
        "\n"
      ]
    },
    {
      "cell_type": "code",
      "execution_count": 212,
      "metadata": {
        "colab": {
          "base_uri": "https://localhost:8080/"
        },
        "id": "jHGXiq6x9aZD",
        "outputId": "b98e9f82-5105-4edf-ebc3-411056daa250"
      },
      "outputs": [
        {
          "output_type": "stream",
          "name": "stdout",
          "text": [
            "313/313 - 1s - loss: 0.3382 - accuracy: 0.9067 - 601ms/epoch - 2ms/step\n"
          ]
        },
        {
          "output_type": "execute_result",
          "data": {
            "text/plain": [
              "[0.33823415637016296, 0.9067000150680542]"
            ]
          },
          "metadata": {},
          "execution_count": 212
        }
      ],
      "source": [
        "model.evaluate(testX, Test_labels, verbose=2)"
      ]
    },
    {
      "cell_type": "code",
      "source": [
        "import matplotlib.pyplot as plt\n",
        "%matplotlib inline\n",
        "\n",
        "plt.plot(DenseModel.history['accuracy'])\n",
        "plt.plot(DenseModel.history['val_accuracy'])\n",
        "plt.ylabel('accuracy')\n",
        "plt.xlabel('epoch')\n",
        "plt.legend(['train', 'test'], loc='upper right')\n",
        "plt.show()\n",
        "\n",
        "\n"
      ],
      "metadata": {
        "colab": {
          "base_uri": "https://localhost:8080/",
          "height": 449
        },
        "id": "zmokCg61Omnz",
        "outputId": "cd5df771-2344-4c8e-f9e7-fb02150ab081"
      },
      "execution_count": 213,
      "outputs": [
        {
          "output_type": "display_data",
          "data": {
            "text/plain": [
              "<Figure size 640x480 with 1 Axes>"
            ],
            "image/png": "[encoded data removed]"
          },
          "metadata": {}
        }
      ]
    },
    {
      "cell_type": "code",
      "source": [
        "plt.plot(DenseModel.history['loss'])\n",
        "plt.plot(DenseModel.history['val_loss'])\n",
        "plt.ylabel('loss')\n",
        "plt.xlabel('epoch')\n",
        "plt.legend(['train', 'test'], loc='upper right')\n",
        "plt.show()"
      ],
      "metadata": {
        "colab": {
          "base_uri": "https://localhost:8080/",
          "height": 453
        },
        "id": "GuhL38IxTA-5",
        "outputId": "d7cceb1b-75e2-47c8-9444-947d8977c0ae"
      },
      "execution_count": 214,
      "outputs": [
        {
          "output_type": "display_data",
          "data": {
            "text/plain": [
              "<Figure size 640x480 with 1 Axes>"
            ],
            "image/png": "[encoded data removed]"
          },
          "metadata": {}
        }
      ]
    },
    {
      "cell_type": "markdown",
      "metadata": {
        "id": "9z0Crg_nARf5"
      },
      "source": [
        "#* We got an Accuracy of 95% ( Not Bad)"
      ]
    },
    {
      "cell_type": "markdown",
      "metadata": {
        "id": "cFrS0tE6Av63"
      },
      "source": [
        "#* Lets check the Accuracy for Individual Element\n"
      ]
    },
    {
      "cell_type": "code",
      "execution_count": 215,
      "metadata": {
        "colab": {
          "base_uri": "https://localhost:8080/",
          "height": 210
        },
        "id": "4xh1m-I0_0Qs",
        "outputId": "37196419-d8c7-4f90-fedf-d35b2bbb3a64"
      },
      "outputs": [
        {
          "output_type": "stream",
          "name": "stdout",
          "text": [
            "313/313 [==============================] - 1s 2ms/step\n",
            "2\n"
          ]
        },
        {
          "output_type": "display_data",
          "data": {
            "text/plain": [
              "<Figure size 640x480 with 3 Axes>"
            ],
            "image/png": "[encoded data removed]"
          },
          "metadata": {}
        }
      ],
      "source": [
        "for i in range(3):\n",
        "  # defining a pyplot \n",
        "  plt.subplot(330 +1 +i)\n",
        " \n",
        " # showing the first 9 images ( plotting the raw pixel data )\n",
        "plt.imshow(testX[1])\n",
        "predict_images= model.predict(testX)\n",
        "print(np.argmax(predict_images[1])) # to check maximum probability"
      ]
    },
    {
      "cell_type": "markdown",
      "metadata": {
        "id": "jfQazMQYBrOx"
      },
      "source": [
        "#* We picked the second element from data set (index 2) and checked it to see if it is predicting correctly and it did good prediction "
      ]
    },
    {
      "cell_type": "code",
      "execution_count": null,
      "metadata": {
        "id": "_vhzulRcBA6i"
      },
      "outputs": [],
      "source": []
    },
    {
      "cell_type": "markdown",
      "metadata": {
        "id": "u0qkxBI5DfEv"
      },
      "source": []
    },
    {
      "cell_type": "markdown",
      "metadata": {
        "id": "Y1B9bfGHDlJD"
      },
      "source": []
    },
    {
      "cell_type": "markdown",
      "metadata": {
        "id": "josYnIp9DlSI"
      },
      "source": [
        "#*** For CNN"
      ]
    },
    {
      "cell_type": "code",
      "execution_count": 221,
      "metadata": {
        "id": "f1tYPDsxKeMC"
      },
      "outputs": [],
      "source": [
        "from tensorflow.keras import layers"
      ]
    },
    {
      "cell_type": "code",
      "execution_count": 222,
      "metadata": {
        "id": "EfHzFpanJtpI"
      },
      "outputs": [],
      "source": [
        "\n",
        "model_CNN = tf.keras.models.Sequential()"
      ]
    },
    {
      "cell_type": "code",
      "execution_count": 223,
      "metadata": {
        "colab": {
          "base_uri": "https://localhost:8080/"
        },
        "id": "zaRs9huIDlwx",
        "outputId": "21fe9f56-7407-4b92-84b5-6794c3b45e23"
      },
      "outputs": [
        {
          "output_type": "stream",
          "name": "stdout",
          "text": [
            "Model: \"sequential_17\"\n",
            "_________________________________________________________________\n",
            " Layer (type)                Output Shape              Param #   \n",
            "=================================================================\n",
            " conv2d_15 (Conv2D)          (None, 26, 26, 32)        320       \n",
            "                                                                 \n",
            " max_pooling2d_12 (MaxPoolin  (None, 13, 13, 32)       0         \n",
            " g2D)                                                            \n",
            "                                                                 \n",
            " conv2d_16 (Conv2D)          (None, 11, 11, 64)        18496     \n",
            "                                                                 \n",
            " max_pooling2d_13 (MaxPoolin  (None, 5, 5, 64)         0         \n",
            " g2D)                                                            \n",
            "                                                                 \n",
            " flatten_17 (Flatten)        (None, 1600)              0         \n",
            "                                                                 \n",
            " dense_43 (Dense)            (None, 100)               160100    \n",
            "                                                                 \n",
            " dense_44 (Dense)            (None, 10)                1010      \n",
            "                                                                 \n",
            "=================================================================\n",
            "Total params: 179,926\n",
            "Trainable params: 179,926\n",
            "Non-trainable params: 0\n",
            "_________________________________________________________________\n"
          ]
        }
      ],
      "source": [
        "\n",
        "model_CNN.add(layers.Conv2D(32, (3, 3), activation='relu', input_shape=(28,28,1)))\n",
        "model_CNN.add(layers.MaxPooling2D((2, 2)))\n",
        "model_CNN.add(layers.Conv2D(64, (3, 3), activation='relu'))\n",
        "model_CNN.add(layers.MaxPooling2D((2, 2)))\n",
        "model_CNN.add(layers.Flatten())\n",
        "model_CNN.add(layers.Dense(100, activation='relu'))\n",
        "model_CNN.add(layers.Dense(10))\n",
        "model_CNN.compile(optimizer='adam',\n",
        "              loss=tf.keras.losses.SparseCategoricalCrossentropy(from_logits=True),\n",
        "              metrics=['accuracy'])\n",
        "\n",
        "model_CNN.summary()"
      ]
    },
    {
      "cell_type": "markdown",
      "metadata": {
        "id": "slj4M887LQmn"
      },
      "source": [
        "#* Now lets train the CNN network\n",
        "\n"
      ]
    },
    {
      "cell_type": "code",
      "execution_count": 224,
      "metadata": {
        "colab": {
          "base_uri": "https://localhost:8080/"
        },
        "id": "hvl2f2yuLQG7",
        "outputId": "4588aa93-6350-4b42-8913-6ca2e1c15274"
      },
      "outputs": [
        {
          "output_type": "stream",
          "name": "stdout",
          "text": [
            "Epoch 1/10\n",
            "1875/1875 [==============================] - 19s 8ms/step - loss: 0.9571 - accuracy: 0.9243 - val_loss: 0.1074 - val_accuracy: 0.9688\n",
            "Epoch 2/10\n",
            "1875/1875 [==============================] - 9s 5ms/step - loss: 0.0928 - accuracy: 0.9734 - val_loss: 0.1055 - val_accuracy: 0.9715\n",
            "Epoch 3/10\n",
            "1875/1875 [==============================] - 8s 4ms/step - loss: 0.0734 - accuracy: 0.9784 - val_loss: 0.0813 - val_accuracy: 0.9765\n",
            "Epoch 4/10\n",
            "1875/1875 [==============================] - 8s 4ms/step - loss: 0.0600 - accuracy: 0.9824 - val_loss: 0.0786 - val_accuracy: 0.9765\n",
            "Epoch 5/10\n",
            "1875/1875 [==============================] - 8s 4ms/step - loss: 0.0525 - accuracy: 0.9845 - val_loss: 0.0692 - val_accuracy: 0.9830\n",
            "Epoch 6/10\n",
            "1875/1875 [==============================] - 7s 4ms/step - loss: 0.0457 - accuracy: 0.9867 - val_loss: 0.0576 - val_accuracy: 0.9849\n",
            "Epoch 7/10\n",
            "1875/1875 [==============================] - 9s 5ms/step - loss: 0.0413 - accuracy: 0.9877 - val_loss: 0.0583 - val_accuracy: 0.9856\n",
            "Epoch 8/10\n",
            "1875/1875 [==============================] - 8s 4ms/step - loss: 0.0380 - accuracy: 0.9895 - val_loss: 0.0538 - val_accuracy: 0.9862\n",
            "Epoch 9/10\n",
            "1875/1875 [==============================] - 7s 4ms/step - loss: 0.0326 - accuracy: 0.9905 - val_loss: 0.0643 - val_accuracy: 0.9843\n",
            "Epoch 10/10\n",
            "1875/1875 [==============================] - 8s 4ms/step - loss: 0.0339 - accuracy: 0.9906 - val_loss: 0.0823 - val_accuracy: 0.9819\n"
          ]
        }
      ],
      "source": [
        "CNN_Train = model_CNN.fit(trainX, Train_labels, epochs = 10, validation_data= (testX, Test_labels))"
      ]
    },
    {
      "cell_type": "code",
      "source": [
        "plt.plot(CNN_Train.history['accuracy'])\n",
        "plt.plot(CNN_Train.history['val_accuracy'])\n",
        "plt.ylabel('accuracy')\n",
        "plt.xlabel('epoch')\n",
        "plt.legend(['train', 'test'], loc='upper right')\n",
        "plt.show()"
      ],
      "metadata": {
        "colab": {
          "base_uri": "https://localhost:8080/",
          "height": 449
        },
        "id": "wz-BXvK7Tv_t",
        "outputId": "2780ba21-0996-48ef-d6d1-6a67712f2ee4"
      },
      "execution_count": 225,
      "outputs": [
        {
          "output_type": "display_data",
          "data": {
            "text/plain": [
              "<Figure size 640x480 with 1 Axes>"
            ],
            "image/png": "[encoded data removed]"
          },
          "metadata": {}
        }
      ]
    },
    {
      "cell_type": "code",
      "source": [
        "plt.plot(CNN_Train.history['loss'])\n",
        "plt.plot(CNN_Train.history['val_loss'])\n",
        "plt.ylabel('loss')\n",
        "plt.xlabel('epoch')\n",
        "plt.legend(['train', 'test'], loc='upper right')\n",
        "plt.show()"
      ],
      "metadata": {
        "colab": {
          "base_uri": "https://localhost:8080/",
          "height": 454
        },
        "id": "nbFUk5KKUBE2",
        "outputId": "6faa3d74-9015-4629-c24a-81dd87a73d3f"
      },
      "execution_count": 226,
      "outputs": [
        {
          "output_type": "display_data",
          "data": {
            "text/plain": [
              "<Figure size 640x480 with 1 Axes>"
            ],
            "image/png": "[encoded data removed]"
          },
          "metadata": {}
        }
      ]
    },
    {
      "cell_type": "code",
      "execution_count": 227,
      "metadata": {
        "id": "QJ88jJM6Nko2",
        "colab": {
          "base_uri": "https://localhost:8080/",
          "height": 466
        },
        "outputId": "48ae86bd-f91a-4578-e0b2-043014c5e21e"
      },
      "outputs": [
        {
          "output_type": "stream",
          "name": "stdout",
          "text": [
            "313/313 [==============================] - 1s 2ms/step\n",
            "7\n"
          ]
        },
        {
          "output_type": "display_data",
          "data": {
            "text/plain": [
              "<Figure size 640x480 with 1 Axes>"
            ],
            "image/png": "[encoded data removed]"
          },
          "metadata": {}
        }
      ],
      "source": [
        "plt.imshow(testX[0])\n",
        "predict_images= model.predict(testX)\n",
        "print(np.argmax(predict_images[0])) # to check maximum probability"
      ]
    },
    {
      "cell_type": "code",
      "source": [
        "for i in range(9):\n",
        "  # defining a pyplot \n",
        "  plt.subplot(330 +1 +i)\n",
        " \n",
        " # showing the first 9 images ( plotting the raw pixel data )\n",
        "  plt.imshow(testX[i])"
      ],
      "metadata": {
        "colab": {
          "base_uri": "https://localhost:8080/",
          "height": 433
        },
        "id": "7vhfADG0LO_r",
        "outputId": "83ae94dd-67c6-4249-ea1e-c607c90843cf"
      },
      "execution_count": 228,
      "outputs": [
        {
          "output_type": "display_data",
          "data": {
            "text/plain": [
              "<Figure size 640x480 with 9 Axes>"
            ],
            "image/png": "[encoded data removed]"
          },
          "metadata": {}
        }
      ]
    }
  ],
  "metadata": {
    "accelerator": "GPU",
    "colab": {
      "provenance": []
    },
    "gpuClass": "standard",
    "kernelspec": {
      "display_name": "Python 3",
      "name": "python3"
    },
    "language_info": {
      "name": "python"
    }
  },
  "nbformat": 4,
  "nbformat_minor": 0
}